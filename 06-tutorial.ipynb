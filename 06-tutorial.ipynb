{
 "cells": [
  {
   "cell_type": "markdown",
   "metadata": {},
   "source": [
    "# Intermine-Python: Tutorial 6: Advanced Results Management"
   ]
  },
  {
   "cell_type": "markdown",
   "metadata": {},
   "source": [
    "In the previous tutorials we learnt how to add filters to limit the query results. However, it's often useful to view the results without filters, to get an idea about the shape of the data. This tutorial will show you how you can process, sort and analyse the query results. "
   ]
  },
  {
   "cell_type": "markdown",
   "metadata": {},
   "source": [
    "We begin by creating a query object. Our example for this tutorial is going to be related to RNA Sequences. "
   ]
  },
  {
   "cell_type": "code",
   "execution_count": 1,
   "metadata": {
    "collapsed": true
   },
   "outputs": [],
   "source": [
    "from intermine.webservice import Service"
   ]
  },
  {
   "cell_type": "code",
   "execution_count": 2,
   "metadata": {
    "collapsed": false
   },
   "outputs": [],
   "source": [
    "service = Service(\"https://www.flymine.org/flymine/service\")"
   ]
  },
  {
   "cell_type": "code",
   "execution_count": 3,
   "metadata": {
    "collapsed": false
   },
   "outputs": [],
   "source": [
    "query=service.new_query()"
   ]
  },
  {
   "cell_type": "code",
   "execution_count": 4,
   "metadata": {
    "collapsed": false
   },
   "outputs": [
    {
     "output_type": "execute_result",
     "data": {
      "text/plain": "<intermine.query.Query at 0x11088a070>"
     },
     "metadata": {},
     "execution_count": 4
    }
   ],
   "source": [
    "query.add_views(\"RNASeqResult.expressionScore RNASeqResult.expressionLevel RNASeqResult.gene.symbol\")"
   ]
  },
  {
   "cell_type": "markdown",
   "metadata": {},
   "source": [
    "We will now sort the results in descending order of their expression score. "
   ]
  },
  {
   "cell_type": "code",
   "execution_count": 5,
   "metadata": {
    "collapsed": false
   },
   "outputs": [
    {
     "output_type": "execute_result",
     "data": {
      "text/plain": "<intermine.query.Query at 0x11088a070>"
     },
     "metadata": {},
     "execution_count": 5
    }
   ],
   "source": [
    "query.add_sort_order(\"RNASeqResult.expressionScore\",\"desc\")"
   ]
  },
  {
   "cell_type": "markdown",
   "metadata": {},
   "source": [
    "We will now print the first ten rows. "
   ]
  },
  {
   "cell_type": "code",
   "execution_count": 6,
   "metadata": {
    "collapsed": false
   },
   "outputs": [
    {
     "output_type": "stream",
     "name": "stdout",
     "text": "RNASeqResult: expressionScore=273318 expressionLevel='Extremely high expression' gene.symbol='Sgs4'\nRNASeqResult: expressionScore=162095 expressionLevel='Extremely high expression' gene.symbol='Yp1'\nRNASeqResult: expressionScore=143098 expressionLevel='Extremely high expression' gene.symbol='Yp1'\nRNASeqResult: expressionScore=132342 expressionLevel='Extremely high expression' gene.symbol='lncRNA:CR40469'\nRNASeqResult: expressionScore=130637 expressionLevel='Extremely high expression' gene.symbol='Sgs7'\nRNASeqResult: expressionScore=119145 expressionLevel='Extremely high expression' gene.symbol='Yp1'\nRNASeqResult: expressionScore=116020 expressionLevel='Extremely high expression' gene.symbol='Yp1'\nRNASeqResult: expressionScore=115148 expressionLevel='Extremely high expression' gene.symbol='Yp1'\nRNASeqResult: expressionScore=114795 expressionLevel='Extremely high expression' gene.symbol='Yp1'\nRNASeqResult: expressionScore=111450 expressionLevel='Extremely high expression' gene.symbol='Yp1'\n"
    }
   ],
   "source": [
    "for r in query.rows(size=10):\n",
    "    print(r)"
   ]
  },
  {
   "cell_type": "markdown",
   "metadata": {},
   "source": [
    "Note that we have not added any constraints and so we have extracted all the possible results. "
   ]
  },
  {
   "cell_type": "markdown",
   "metadata": {},
   "source": [
    "Now, let's say that we want to sort all the results into three different dictionaries (or maps). The ones with expressionScores of greater than 25 into one map, the ones with expression scores greater than 10 but lesser than (or equal to 25) in another map and all the remaining ones into a separate map. "
   ]
  },
  {
   "cell_type": "markdown",
   "metadata": {},
   "source": [
    "We begin by declaring these three dictionaries. "
   ]
  },
  {
   "cell_type": "code",
   "execution_count": 7,
   "metadata": {
    "collapsed": false
   },
   "outputs": [],
   "source": [
    "high_dict={}\n",
    "medium_dict={}\n",
    "low_dict={}"
   ]
  },
  {
   "cell_type": "code",
   "execution_count": 8,
   "metadata": {
    "collapsed": false
   },
   "outputs": [],
   "source": [
    "for r in query.rows():\n",
    "    if(r[\"expressionScore\"]>25):\n",
    "        high_dict[r[\"gene.symbol\"]]=r[\"expressionLevel\"]\n",
    "    else:\n",
    "        if(r[\"expressionScore\"]>10):\n",
    "            medium_dict[r[\"gene.symbol\"]]=r[\"expressionLevel\"]\n",
    "        else:\n",
    "            low_dict[r[\"gene.symbol\"]]=r[\"expressionLevel\"]"
   ]
  },
  {
   "cell_type": "markdown",
   "metadata": {},
   "source": [
    "If you now want to view the items stored in the high_dict dicitionary, you can print them out as shown below. "
   ]
  },
  {
   "cell_type": "code",
   "execution_count": 9,
   "metadata": {
    "collapsed": false,
    "tags": [
     "outputPrepend",
     "outputPrepend",
     "outputPrepend",
     "outputPrepend",
     "outputPrepend",
     "outputPrepend",
     "outputPrepend",
     "outputPrepend",
     "outputPrepend",
     "outputPrepend",
     "outputPrepend",
     "outputPrepend",
     "outputPrepend",
     "outputPrepend",
     "outputPrepend"
    ]
   },
   "outputs": [
    {
     "output_type": "stream",
     "name": "stdout",
     "text": "pression\nPten Moderately high expression\nPus7 Moderately high expression\nRab19 Moderately high expression\nRpn13R Moderately high expression\nRrp46 Moderately high expression\nSkpD Moderately high expression\nSlh Moderately high expression\nalpha-Est4 Moderately high expression\nasRNA:CR44976 Moderately high expression\nasRNA:CR45149 Moderately high expression\naz2 Moderately high expression\newg Moderately high expression\nfmt Moderately high expression\nkon Moderately high expression\nksr Moderately high expression\nl(2)37Cd Moderately high expression\nlncRNA:CR30055 Moderately high expression\nmtsh Moderately high expression\npad Moderately high expression\nprd1 Moderately high expression\npxb Moderately high expression\nrdgC Moderately high expression\nsstn Moderately high expression\nste24c Moderately high expression\nstwl Moderately high expression\ntrus Moderately high expression\nyellow-f2 Moderately high expression\nArt7 Moderately high expression\nCG10702 Moderately high expression\nCG10834 Moderately high expression\nCG11588 Moderately high expression\nCG11951 Moderately high expression\nCG11970 Moderately high expression\nCG12241 Moderately high expression\nCG12446 Moderately high expression\nCG12975 Moderately high expression\nCG13028 Moderately high expression\nCG13367 Moderately high expression\nCG14071 Moderately high expression\nCG14352 Moderately high expression\nCG14383 Moderately high expression\nCG14965 Moderately high expression\nCG15773 Moderately high expression\nCG15894 Moderately high expression\nCG16710 Moderately high expression\nCG1738 Moderately high expression\nCG1792 Moderately high expression\nCG1840 Moderately high expression\nCG18641 Moderately high expression\nCG1965 Moderately high expression\nCG30151 Moderately high expression\nCG31638 Moderately high expression\nCG31793 Moderately high expression\nCG32537 Moderately high expression\nCG3262 Moderately high expression\nCG32811 Moderately high expression\nCG33093 Moderately high expression\nCG3342 Moderately high expression\nCG33506 Moderately high expression\nCG34430 Moderately high expression\nCG34435 Moderately high expression\nCG3448 Moderately high expression\nCG3880 Moderately high expression\nCG42382 Moderately high expression\nCG42692 Moderately high expression\nCG4278 Moderately high expression\nCG43394 Moderately high expression\nCG43672 Moderately high expression\nCG5087 Moderately high expression\nCG5589 Moderately high expression\nCG5776 Moderately high expression\nCG6073 Moderately high expression\nCG7135 Moderately high expression\nCG7320 Moderately high expression\nCG7497 Moderately high expression\nCG7810 Moderately high expression\nCG7907 Moderately high expression\nCG8060 Moderately high expression\nCG8671 Moderately high expression\nCG8679 Moderately high expression\nCG9497 Moderately high expression\nCR11386 Moderately high expression\nCR34285 Moderately high expression\nCR43310 Moderately high expression\nCheA7a Moderately high expression\nCog6 Moderately high expression\nCoq5 Moderately high expression\nCycJ Moderately high expression\nDscam3 Moderately high expression\nHsc20 Moderately high expression\nJMJD4 Moderately high expression\nKlp98A Moderately high expression\nLrch Moderately high expression\nPH4alphaNE1 Moderately high expression\nPtth Moderately high expression\nRab21 Moderately high expression\nSer Moderately high expression\nSin1 Moderately high expression\nSmydA-4 Moderately high expression\nSpc105R Moderately high expression\nT3dh Moderately high expression\nUse1 Moderately high expression\nal Moderately high expression\nalpha-Catr Moderately high expression\nalpha-Man-Ia Moderately high expression\nasRNA:CR43433 Moderately high expression\nasRNA:CR43474 Moderately high expression\nasRNA:CR43971 Moderately high expression\nasRNA:CR45152 Moderately high expression\nbeg Moderately high expression\ndac Moderately high expression\ndbr Moderately high expression\ndisp Moderately high expression\neIF2Bgamma Moderately high expression\nfry Moderately high expression\nhh Moderately high expression\nhob Moderately high expression\nlncRNA:CR42868 Moderately high expression\nlncRNA:CR43967 Moderately high expression\nlncRNA:CR44055 Moderately high expression\nlncRNA:CR45036 Moderately high expression\nmthl4 Moderately high expression\nmthl9 Moderately high expression\nninaB Moderately high expression\npan Moderately high expression\nrdo Moderately high expression\nrho-5 Moderately high expression\nrod Moderately high expression\nsnoRNA:Psi28S-1192a Moderately high expression\nAdar Moderately high expression\nAlg10 Moderately high expression\nAtac1 Moderately high expression\nCG10163 Moderately high expression\nCG10324 Moderately high expression\nCG11436 Moderately high expression\nCG11537 Moderately high expression\nCG12540 Moderately high expression\nCG12645 Moderately high expression\nCG12863 Moderately high expression\nCG13671 Moderately high expression\nCG14000 Moderately high expression\nCG14100 Moderately high expression\nCG14400 Moderately high expression\nCG14742 Moderately high expression\nCG14879 Moderately high expression\nCG15160 Moderately high expression\nCG15443 Moderately high expression\nCG15450 Moderately high expression\nCG15571 Moderately high expression\nCG17141 Moderately high expression\nCG17167 Moderately high expression\nCG17803 Moderately high expression\nCG18155 Moderately high expression\nCG1847 Moderately high expression\nCG18586 Moderately high expression\nCG2889 Moderately high expression\nCG30062 Moderately high expression\nCG30080 Moderately high expression\nCG31102 Moderately high expression\nCG31106 Moderately high expression\nCG31296 Moderately high expression\nCG3149 Moderately high expression\nCG31675 Moderately high expression\nCG32121 Moderately high expression\nCG32856 Moderately high expression\nCG33107 Moderately high expression\nCG33233 Moderately high expression\nCG33993 Moderately high expression\nCG34258 Moderately high expression\nCG34276 Moderately high expression\nCG34408 Moderately high expression\nCG4168 Moderately high expression\nCG42272 Moderately high expression\nCG42296 Moderately high expression\nCG42404 Moderately high expression\nCG42450 Moderately high expression\nCG42536 Moderately high expression\nCG42554 Moderately high expression\nCG42662 Moderately high expression\nCG43183 Moderately high expression\nCG4622 Moderately high expression\nCG4953 Moderately high expression\nCG5321 Moderately high expression\nCG5359 Moderately high expression\nCG6325 Moderately high expression\nCG6454 Moderately high expression\nCG7329 Moderately high expression\nCG7362 Moderately high expression\nCG7747 Moderately high expression\nCG8028 Moderately high expression\nCG8032 Moderately high expression\nCG8132 Moderately high expression\nCG9459 Moderately high expression\nCG9616 Moderately high expression\nCG9664 Moderately high expression\nCcdc85 Moderately high expression\nCht11 Moderately high expression\nCrtc Moderately high expression\nFLASH Moderately high expression\nGycbeta100B Moderately high expression\nIlp7 Moderately high expression\nIrk1 Moderately high expression\nJMJD7 Moderately high expression\nLrpprc2 Moderately high expression\nMocs1 Moderately high expression\nNimC1 Moderately high expression\nPGAP5 Moderately high expression\nRab9 Moderately high expression\nRegnase-1 Moderately high expression\nRgk1 Moderately high expression\nRich Moderately high expression\nSpn28Da Moderately high expression\nSym Moderately high expression\nTTLL1B Moderately high expression\nUpf2 Moderately high expression\nWDR79 Moderately high expression\nasRNA:CR44182 Moderately high expression\nasRNA:CR44267 Moderately high expression\nasRNA:CR44382 Moderately high expression\nbetaggt-II Moderately high expression\nca Moderately high expression\ncyr Moderately high expression\nlncRNA:CR43493 Moderately high expression\nlncRNA:CR44127 Moderately high expression\nlncRNA:CR44151 Moderately high expression\nlncRNA:CR44332 Moderately high expression\nlncRNA:CR44672 Moderately high expression\nlncRNA:CR45004 Moderately high expression\nmTTF Moderately high expression\nmal Moderately high expression\nndl Moderately high expression\nnub Moderately high expression\notp Moderately high expression\npark Moderately high expression\nplx Moderately high expression\npre-mod(mdg4)-E Moderately high expression\nsfl Moderately high expression\nside-V Moderately high expression\nsl Moderately high expression\nsmog Moderately high expression\nsnoRNA:Me28S-U1230 Moderately high expression\nsqa Moderately high expression\nsyd Moderately high expression\nupd3 Moderately high expression\nvret Moderately high expression\nAfti Moderately high expression\nAtxn7 Moderately high expression\nBx Moderately high expression\nCG10347 Moderately high expression\nCG10428 Moderately high expression\nCG10654 Moderately high expression\nCG11122 Moderately high expression\nCG11236 Moderately high expression\nCG11617 Moderately high expression\nCG11726 Moderately high expression\nCG12123 Moderately high expression\nCG1233 Moderately high expression\nCG12481 Moderately high expression\nCG1271 Moderately high expression\nCG13108 Moderately high expression\nCG13151 Moderately high expression\nCG13171 Moderately high expression\nCG13204 Moderately high expression\nCG13377 Moderately high expression\nCG1409 Moderately high expression\nCG14153 Moderately high expression\nCG14190 Moderately high expression\nCG14562 Moderately high expression\nCG14710 Moderately high expression\nCG14838 Moderately high expression\nCG14964 Moderately high expression\nCG15249 Moderately high expression\nCG15256 Moderately high expression\nCG15673 Moderately high expression\nCG15824 Moderately high expression\nCG1647 Moderately high expression\nCG16717 Moderately high expression\nCG1698 Moderately high expression\nCG17751 Moderately high expression\nCG18223 Moderately high expression\nCG18273 Moderately high expression\nCG2681 Moderately high expression\nCG31760 Moderately high expression\nCG31826 Moderately high expression\nCG32669 Moderately high expression\nCG33287 Moderately high expression\nCG34126 Moderately high expression\nCG34183 Moderately high expression\nCG34229 Moderately high expression\nCG3655 Moderately high expression\nCG43204 Moderately high expression\nCG43325 Moderately high expression\nCG43326 Moderately high expression\nCG43400 Moderately high expression\nCG43659 Moderately high expression\nCG5380 Moderately high expression\nCG5877 Moderately high expression\nCG6333 Moderately high expression\nCG7065 Moderately high expression\nCG7201 Moderately high expression\nCG7737 Moderately high expression\nCG8141 Moderately high expression\nCG9215 Moderately high expression\nCG9784 Moderately high expression\nCG9993 Moderately high expression\nCR14578 Moderately high expression\nCR32745 Moderately high expression\nCR41454 Moderately high expression\nCdk8 Moderately high expression\nCheA75a Moderately high expression\nCoq2 Moderately high expression\nCyp305a1 Moderately high expression\nDark Moderately high expression\nDbp21E2 Moderately high expression\nElp2 Moderately high expression\nFbxl7 Moderately high expression\nGrip75 Moderately high expression\nHen1 Moderately high expression\nHtrA2 Moderately high expression\nIntS9 Moderately high expression\nKLHL18 Moderately high expression\nLap1 Moderately high expression\nLrt Moderately high expression\nNaa30B Moderately high expression\nNmdar2 Moderately high expression\nNot10 Moderately high expression\nObp99d Moderately high expression\nPLCXD Moderately high expression\nPkcdelta Moderately high expression\nPph13 Moderately high expression\nPsGEF Moderately high expression\nRNaseP:RNA Moderately high expression\nRabX6 Moderately high expression\nRacGAP84C Moderately high expression\nSb Moderately high expression\nSix4 Moderately high expression\nana3 Moderately high expression\nasRNA:CR44850 Moderately high expression\nbap Moderately high expression\ncerv Moderately high expression\ndpr6 Moderately high expression\neIF2Balpha Moderately high expression\ngkt Moderately high expression\nind Moderately high expression\nkek3 Moderately high expression\nlncRNA:CR40719 Moderately high expression\nlncRNA:CR43279 Moderately high expression\nlncRNA:CR43605 Moderately high expression\nlncRNA:CR43857 Moderately high expression\nlncRNA:CR43888 Moderately high expression\nlncRNA:CR43900 Moderately high expression\nmRF1 Moderately high expression\nmia Moderately high expression\nmrn Moderately high expression\nokr Moderately high expression\nort Moderately high expression\npHCl-1 Moderately high expression\npip Moderately high expression\npre-mod(mdg4)-V Moderately high expression\nsunn Moderately high expression\nsut3 Moderately high expression\ntun Moderately high expression\nupd1 Moderately high expression\nAOX2 Moderately high expression\nAda1-2 Moderately high expression\nAven Moderately high expression\nCG10132 Moderately high expression\nCG10209 Moderately high expression\nCG10300 Moderately high expression\nCG10584 Moderately high expression\nCG11986 Moderately high expression\nCG12698 Moderately high expression\nCG13018 Moderately high expression\nCG13058 Moderately high expression\nCG13248 Moderately high expression\nCG13634 Moderately high expression\nCG13862 Moderately high expression\nCG13992 Moderately high expression\nCG1421 Moderately high expression\nCG14223 Moderately high expression\nCG14667 Moderately high expression\nCG15278 Moderately high expression\nCG15742 Moderately high expression\nCG17111 Moderately high expression\nCG17380 Moderately high expression\nCG18428 Moderately high expression\nCG18542 Moderately high expression\nCG2126 Moderately high expression\nCG2614 Moderately high expression\nCG30403 Moderately high expression\nCG31157 Moderately high expression\nCG31674 Moderately high expression\nCG31924 Moderately high expression\nCG34328 Moderately high expression\nCG42493 Moderately high expression\nCG43055 Moderately high expression\nCG43133 Moderately high expression\nCG4324 Moderately high expression\nCG43759 Moderately high expression\nCG44098 Moderately high expression\nCG5292 Moderately high expression\nCG5367 Moderately high expression\nCG5849 Moderately high expression\nCG6621 Moderately high expression\nCG6654 Moderately high expression\nCG7183 Moderately high expression\nCG7369 Moderately high expression\nCG7582 Moderately high expression\nCG7785 Moderately high expression\nCG7829 Moderately high expression\nCG7991 Moderately high expression\nCG8569 Moderately high expression\nCG9582 Moderately high expression\nCG9630 Moderately high expression\nCR33222 Moderately high expression\nCa-alpha1D Moderately high expression\nCog2 Moderately high expression\nCrg-1 Moderately high expression\nCyp303a1 Moderately high expression\nCyp49a1 Moderately high expression\nFoxP Moderately high expression\nLptModerately high expression\nMCU Moderately high expression\nMTF-1 Moderately high expression\nMTPAP Moderately high expression\nMarcal1 Moderately high expression\nNepl5 Moderately high expression\nPex7 Moderately high expression\nPgcl Moderately high expression\nPi3K68D Moderately high expression\nRpI135 Moderately high expression\nSik3 Moderately high expression\nTBC1d7 Moderately high expression\nTTLL1A Moderately high expression\nTyrRS-m Moderately high expression\nUsf Moderately high expression\nWdr37 Moderately high expression\nWdr62 Moderately high expression\nasRNA:CR43876 Moderately high expression\nasRNA:CR45192 Moderately high expression\nase Moderately high expression\naust Moderately high expression\nbchs Moderately high expression\nconv Moderately high expression\nfd102C Moderately high expression\nfh Moderately high expression\nfid Moderately high expression\nfru Moderately high expression\nfz Moderately high expression\ninaE Moderately high expression\nl(2)k10201 Moderately high expression\nlncRNA:CR43151 Moderately high expression\nlncRNA:CR43641 Moderately high expression\nlncRNA:CR44061 Moderately high expression\nlncRNA:CR44073 Moderately high expression\nlncRNA:CR44217 Moderately high expression\nlncRNA:CR44478 Moderately high expression\nlncRNA:CR44852 Moderately high expression\nlncRNA:CR44895 Moderately high expression\nlncRNA:CR44908 Moderately high expression\nlncRNA:CR44942 Moderately high expression\nnht Moderately high expression\nnonC Moderately high expression\nph-d Moderately high expression\nrepo Moderately high expression\nsenju Moderately high expression\ntrr Moderately high expression\n5-HT1A Moderately high expression\nAtac3 Moderately high expression\nCAH14 Moderately high expression\nCG10151 Moderately high expression\nCG10559 Moderately high expression\nCG10907 Moderately high expression\nCG10959 Moderately high expression\nCG11168 Moderately high expression\nCG11317 Moderately high expression\nCG11475 Moderately high expression\nCG12253 Moderately high expression\nCG12256 Moderately high expression\nCG12539 Moderately high expression\nCG12637 Moderately high expression\nCG13014 Moderately high expression\nCG13398 Moderately high expression\nCG13692 Moderately high expression\nCG13827 Moderately high expression\nCG13829 Moderately high expression\nCG14070 Moderately high expression\nCG14182 Moderately high expression\nCG14408 Moderately high expression\nCG14635 Moderately high expression\nCG15011 Moderately high expression\nCG15144 Moderately high expression\nCG1529 Moderately high expression\nCG15395 Moderately high expression\nCG15412 Moderately high expression\nCG15820 Moderately high expression\nCG1663 Moderately high expression\nCG17928 Moderately high expression\nCG30090 Moderately high expression\nCG30100 Moderately high expression\nCG30383 Moderately high expression\nCG30424 Moderately high expression\nCG31219 Moderately high expression\nCG3156 Moderately high expression\nCG31690 Moderately high expression\nCG32109 Moderately high expression\nCG3285 Moderately high expression\nCG32939 Moderately high expression\nCG33286 Moderately high expression\nCG33489 Moderately high expression\nCG34005 Moderately high expression\nCG3526 Moderately high expression\nCG42372 Moderately high expression\nCG42833 Moderately high expression\nCG43092 Moderately high expression\nCG43271 Moderately high expression\nCG43707 Moderately high expression\nCG43798 Moderately high expression\nCG5608 Moderately high expression\nCG5815 Moderately high expression\nCG5964 Moderately high expression\nCG6465 Moderately high expression\nCG6495 Moderately high expression\nCG6574 Moderately high expression\nCG6867 Moderately high expression\nCG7102 Moderately high expression\nCG7407 Moderately high expression\nCG7685 Moderately high expression\nCG7900 Moderately high expression\nCG8389 Moderately high expression\nCG9114 Moderately high expression\nCG9384 Moderately high expression\nCG9596 Moderately high expression\nCR43734 Moderately high expression\nCoq3 Moderately high expression\nDlg5 Moderately high expression\nGAPsec Moderately high expression\nGagr Moderately high expression\nGolgin104 Moderately high expression\nHus1-like Moderately high expression\nMICU3 Moderately high expression\nMco4 Moderately high expression\nPIG-A Moderately high expression\nPtx1 Moderately high expression\nRluA-2 Moderately high expression\nRpIII128 Moderately high expression\nSirt7 Moderately high expression\nSmyd4-3 Moderately high expression\nSse Moderately high expression\nTep3 Moderately high expression\nTotX Moderately high expression\nTsp42Eh Moderately high expression\nVps16B Moderately high expression\nVps51 Moderately high expression\nasRNA:CR45195 Moderately high expression\nbtd Moderately high expression\nbyn Moderately high expression\ncalypso Moderately high expression\nchm Moderately high expression\ndnc Moderately high expression\ndpr20 Moderately high expression\nebd2 Moderately high expression\nher Moderately high expression\nkrz Moderately high expression\nktub Moderately high expression\nl(2)37Cg Moderately high expression\nlncRNA:CR43792 Moderately high expression\nlncRNA:CR44272 Moderately high expression\nlncRNA:CR44722 Moderately high expression\nlncRNA:CR44749 Moderately high expression\nlncRNA:roX2 Moderately high expression\nms(2)34Fe Moderately high expression\nocm Moderately high expression\npuf Moderately high expression\nrempA Moderately high expression\nside-VI Moderately high expression\nsnoRNA:Psi28S-1175a Moderately high expression\nssp6 Moderately high expression\nwake Moderately high expression\n"
    }
   ],
   "source": [
    "for k,v in high_dict.items():\n",
    "    print(k,v)"
   ]
  },
  {
   "cell_type": "markdown",
   "metadata": {},
   "source": [
    "Let's say that you want to view the average score for extremely high expressions. This can be done as follows. "
   ]
  },
  {
   "cell_type": "code",
   "execution_count": 10,
   "metadata": {
    "collapsed": false
   },
   "outputs": [
    {
     "output_type": "stream",
     "name": "stdout",
     "text": "Average is 3018.670038092736\n"
    }
   ],
   "source": [
    "total=0\n",
    "count=0\n",
    "for r in query.rows():\n",
    "    if(r[\"expressionScore\"]>1000):\n",
    "        total=total+r[\"expressionScore\"]\n",
    "        count=count+1\n",
    "print(\"Average is\",total/count)  "
   ]
  },
  {
   "cell_type": "markdown",
   "metadata": {},
   "source": [
    "An advantage of extracting all the results first and then processing them in the client side is that you do not need to keep re-running the query with different constraints. If you change your mind about the constraints, iterate over the same results and store them into a different list by simply changing the \"if\" condition. "
   ]
  }
 ],
 "metadata": {
  "anaconda-cloud": {},
  "kernelspec": {
   "display_name": "Python 3.8.1 64-bit",
   "language": "python",
   "name": "python38164bit64f092a14f47420fadd99522ecd01b91"
  },
  "language_info": {
   "codemirror_mode": {
    "name": "ipython",
    "version": 3
   },
   "file_extension": ".py",
   "mimetype": "text/x-python",
   "name": "python",
   "nbconvert_exporter": "python",
   "pygments_lexer": "ipython3",
   "version": "3.8.1-final"
  }
 },
 "nbformat": 4,
 "nbformat_minor": 1
}