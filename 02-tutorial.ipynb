{
 "cells": [
  {
   "cell_type": "markdown",
   "metadata": {},
   "source": [
    "# Intermine-Python: Tutorial 2: Adding Constraints to a Query"
   ]
  },
  {
   "cell_type": "markdown",
   "metadata": {},
   "source": [
    "This is the second tutorial in the Intermine-Python tutorial series. In the previous tutorial we learned how to select the output columns as per our choice. Now, we will look at adding constraints to our queries to filter the results."
   ]
  },
  {
   "cell_type": "markdown",
   "metadata": {},
   "source": [
    "The first query that we will be looking at is to extract a list of all the Drosophilids in the database. We start with creating a service and query object as we had seen earlier. If we want to view all the possible output columns at once we can pass \"\\*\" as a parameter to the select function. This is Intermine's equivalent of SQL's SELECT *."
   ]
  },
  {
   "cell_type": "code",
   "execution_count": 1,
   "metadata": {},
   "outputs": [],
   "source": [
    "from intermine.webservice import Service"
   ]
  },
  {
   "cell_type": "code",
   "execution_count": 2,
   "metadata": {},
   "outputs": [],
   "source": [
    "service = Service(\"https://www.flymine.org/flymine/service\")\n",
    "query=service.new_query(\"Organism\") "
   ]
  },
  {
   "cell_type": "code",
   "execution_count": 3,
   "metadata": {},
   "outputs": [
    {
     "output_type": "execute_result",
     "data": {
      "text/plain": "<intermine.query.Query at 0x109f5bf70>"
     },
     "metadata": {},
     "execution_count": 3
    }
   ],
   "source": [
    "query.select('*')"
   ]
  },
  {
   "cell_type": "markdown",
   "metadata": {},
   "source": [
    "To add a constraint to our query, we can use the add_constraint method available in the Query class. "
   ]
  },
  {
   "cell_type": "code",
   "execution_count": 4,
   "metadata": {},
   "outputs": [
    {
     "output_type": "execute_result",
     "data": {
      "text/plain": "<BinaryConstraint: Organism.genus = Drosophila>"
     },
     "metadata": {},
     "execution_count": 4
    }
   ],
   "source": [
    "query.add_constraint(\"genus\",\"=\",\"Drosophila\")"
   ]
  },
  {
   "cell_type": "markdown",
   "metadata": {},
   "source": [
    "Now, we will print the results of our query. We will use the technique that we learnt in the first tutorial. You can also reduce the number of output columns by selecting only certain columns as we had seen in the first tutorial."
   ]
  },
  {
   "cell_type": "code",
   "execution_count": 5,
   "metadata": {},
   "outputs": [
    {
     "output_type": "stream",
     "name": "stdout",
     "text": "Organism: commonName='fruit fly' genus='Drosophila' id=1000010 name='Drosophila melanogaster' shortName='D. melanogaster' species='melanogaster' taxonId='7227'\nOrganism: commonName=None genus='Drosophila' id=6000005 name='Drosophila pseudoobscura' shortName='D. pseudoobscura' species='pseudoobscura' taxonId='7237'\nOrganism: commonName=None genus='Drosophila' id=7000005 name='Drosophila virilis' shortName='D. virilis' species='virilis' taxonId='7244'\nOrganism: commonName=None genus='Drosophila' id=7584082 name='Drosophila yakuba' shortName='D. yakuba' species='yakuba' taxonId='7245'\nOrganism: commonName=None genus='Drosophila' id=7608927 name='Drosophila simulans' shortName='D. simulans' species='simulans' taxonId='7240'\nOrganism: commonName=None genus='Drosophila' id=8165510 name='Drosophila sechellia' shortName='D. sechellia' species='sechellia' taxonId='7238'\nOrganism: commonName=None genus='Drosophila' id=8209735 name='Drosophila ananassae' shortName='D. ananassae' species='ananassae' taxonId='7217'\nOrganism: commonName=None genus='Drosophila' id=8736881 name='Drosophila erecta' shortName='D. erecta' species='erecta' taxonId='7220'\nOrganism: commonName=None genus='Drosophila' id=8752274 name='Drosophila willistoni' shortName='D. willistoni' species='willistoni' taxonId='7260'\nOrganism: commonName=None genus='Drosophila' id=8796876 name='Drosophila grimshawi' shortName='D. grimshawi' species='grimshawi' taxonId='7222'\nOrganism: commonName=None genus='Drosophila' id=8849210 name='Drosophila persimilis' shortName='D. persimilis' species='persimilis' taxonId='7234'\nOrganism: commonName=None genus='Drosophila' id=8887796 name='Drosophila mojavensis' shortName='D. mojavensis' species='mojavensis' taxonId='7230'\n"
    }
   ],
   "source": [
    "for row in query.rows():\n",
    "    print(row)"
   ]
  },
  {
   "cell_type": "markdown",
   "metadata": {},
   "source": [
    "Organism: commonName='fruit fly' genus='Drosophila' id=1000010 name='Drosophila melanogaster' shortName='D. melanogaster' species='melanogaster' taxonId='7227'<br/>\n",
    "\n",
    "Organism: commonName=None genus='Drosophila' id=6000005 name='Drosophila pseudoobscura' shortName='D. pseudoobscura' species='pseudoobscura' taxonId='7237'<br/>\n",
    "\n",
    "Organism: commonName=None genus='Drosophila' id=7000005 name='Drosophila virilis' shortName='D. virilis' species='virilis' taxonId='7244'<br/>\n",
    "\n",
    "Organism: commonName=None genus='Drosophila' id=7584082 name='Drosophila yakuba' shortName='D. yakuba' species='yakuba' taxonId='7245'<br/>\n",
    "\n",
    "Organism: commonName=None genus='Drosophila' id=7608927 name='Drosophila simulans' shortName='D. simulans' species='simulans' taxonId='7240'<br/>\n",
    "\n",
    "Organism: commonName=None genus='Drosophila' id=8165510 name='Drosophila sechellia' shortName='D. sechellia' species='sechellia' taxonId='7238'<br/>\n",
    "\n",
    "Organism: commonName=None genus='Drosophila' id=8209735 name='Drosophila ananassae' shortName='D. ananassae' species='ananassae' taxonId='7217'<br/>\n",
    "\n",
    "Organism: commonName=None genus='Drosophila' id=8736881 name='Drosophila erecta' shortName='D. erecta' species='erecta' taxonId='7220'<br/>\n",
    "\n",
    "Organism: commonName=None genus='Drosophila' id=8752274 name='Drosophila willistoni' shortName='D. willistoni' species='willistoni' taxonId='7260'<br/>\n",
    "\n",
    "Organism: commonName=None genus='Drosophila' id=8796876 name='Drosophila grimshawi' shortName='D. grimshawi' species='grimshawi' taxonId='7222'<br/>\n",
    "\n",
    "Organism: commonName=None genus='Drosophila' id=8849210 name='Drosophila persimilis' shortName='D. persimilis' species='persimilis' taxonId='7234'<br/>\n",
    "\n",
    "Organism: commonName=None genus='Drosophila' id=8887796 name='Drosophila mojavensis' shortName='D. mojavensis' species='mojavensis' taxonId='7230'"
   ]
  },
  {
   "cell_type": "markdown",
   "metadata": {},
   "source": [
    "We are now going to change the query a little bit. Let's say that we want to extract all the publication information about Droshophilids that have been published since 2010."
   ]
  },
  {
   "cell_type": "code",
   "execution_count": 6,
   "metadata": {},
   "outputs": [],
   "source": [
    "query2=service.new_query(\"Gene\")"
   ]
  },
  {
   "cell_type": "markdown",
   "metadata": {},
   "source": [
    "Since we want to extract all the information related to each publication pass \"publications.\\*\" as our parameter."
   ]
  },
  {
   "cell_type": "code",
   "execution_count": 7,
   "metadata": {},
   "outputs": [
    {
     "output_type": "execute_result",
     "data": {
      "text/plain": "<intermine.query.Query at 0x109f488b0>"
     },
     "metadata": {},
     "execution_count": 7
    }
   ],
   "source": [
    "query2.select(\"publications.*\")"
   ]
  },
  {
   "cell_type": "markdown",
   "metadata": {},
   "source": [
    "This is followed by adding the contraints. First we want to limit our search to only Drosophilds and secondly we want to extract only those publications that were published in or after the year 2010."
   ]
  },
  {
   "cell_type": "code",
   "execution_count": 8,
   "metadata": {},
   "outputs": [
    {
     "output_type": "execute_result",
     "data": {
      "text/plain": "<BinaryConstraint: Gene.publications.year >= 2010>"
     },
     "metadata": {},
     "execution_count": 8
    }
   ],
   "source": [
    "query2.add_constraint(\"organism.genus\",\"=\",\"Drosophila\")\n",
    "query2.add_constraint(\"publications.year\",\">=\",\"2010\")"
   ]
  },
  {
   "cell_type": "code",
   "execution_count": 19,
   "metadata": {},
   "outputs": [
    {
     "output_type": "stream",
     "name": "stdout",
     "text": "Gene: publications.abstractText='\"Bang-sensitive\"mutants of Drosophila display characteristic repertoires of distinct seizure-and-paralysis behaviors upon mechanical shock (Ganetzky &Wu, 1982, Genetics, 100, 597-614). The authors found that each of the bang-sensitive mutants described in this paper (bas, bss, eas, and tko) also displayed similar behavioral repertoires upon exposure to either high or low temperature. These repertoires are composed of interspersed periods of seizure and paralysis, and appear to have interesting parallels with vertebrate epileptiform behavior. Analysis of gynandromorph mosaics of these bang-sensitive mutant flies indicated that anatomical foci required for these two types of behaviors do not totally overlap, as they were separable among mosaic flies. Observations on mosaic and decapitated flies demonstrated an all-or-none expression of the seizure-and-paralysis behaviors, indicating global activity and long-range interactions in the nervous system. Therefore, the diverse collection of currently available Drosophila bang-sensitive mutants may serve as a rich source for mutational and cellular analysis to identify interacting molecular networks that are responsible for seizure phenotypes.' publications.doi='10.3109/01677063.2012.690011' publications.firstAuthor='Burg Martin G' publications.id=3041614 publications.issue='2' publications.journal='J. Neurogenet.' publications.month='Jun' publications.pages='189-97' publications.pubMedId='22716921' publications.title='Mechanical and temperature stressor-induced seizure-and-paralysis behaviors in Drosophila bang-sensitive mutants.' publications.volume='26' publications.year=2012\nGene: publications.abstractText='\"Regulatory evolution,\"that is, changes in a gene\\'s expression pattern through changes at its regulatory sequence, rather than changes at the coding sequence of the gene or changes of the upstream transcription factors, has been increasingly recognized as a pervasive evolution mechanism. Many somatic sexually dimorphic features of Drosophila melanogaster are the results of gene expression regulated by the doublesex (dsx) gene, which encodes sex-specific transcription factors (DSX(F) in females and DSX(M) in males). Rapid changes in such sexually dimorphic features are likely a result of changes at the regulatory sequence of the target genes. We focused on the Flavin-containing monooxygenase-2 (Fmo-2) gene, a likely direct dsx target, to elucidate how sexually dimorphic expression and its evolution are brought about. We found that dsx is deployed to regulate the Fmo-2 transcription both in the midgut and in fat body cells of the spermatheca (a female-specific tissue), through a canonical DSX-binding site in the Fmo-2 regulatory sequence. In the melanogaster group, Fmo-2 transcription in the midgut has evolved rapidly, in contrast to the conserved spermathecal transcription. We identified two cis-regulatory modules (CRM-p and CRM-d) that direct sexually monomorphic or dimorphic Fmo-2 transcription, respectively, in the midguts of these species. Changes of Fmo-2 transcription in the midgut from sexually dimorphic to sexually monomorphic in some species are caused by the loss of CRM-d function, but not the loss of the canonical DSX-binding site. Thus, conferring transcriptional regulation on a CRM level allows the regulation to evolve rapidly in one tissue while evading evolutionary constraints posed by other tissues. ' publications.doi='10.1073/pnas.1501192112' publications.firstAuthor='Luo Shengzhan D' publications.id=1026718 publications.issue='8' publications.journal='Proc. Natl. Acad. Sci. U.S.A.' publications.month='Feb' publications.pages='E852-61' publications.pubMedId='25675536' publications.title=\"Constraints on the evolution of a doublesex target gene arising from doublesex's pleiotropic deployment.\" publications.volume='112' publications.year=2015\nGene: publications.abstractText='(-)-α-Bisabolol (BISA) is a sesquiterpene alcohol, which has several recognized biological activities, including anti-inflammatory, anti-irritant, and antibacterial properties. In the present study, we investigated the influence of BISA (5, 25, and 250 μmol/L) on rotenone (500 μmol/L)-induced toxicity in Drosophila melanogaster for 7 days. BISA supplementation significantly decreased rotenone-induced mortality and locomotor deficits. The loss of motor function induced by rotenone correlated with a significant change in stress response factors; it decreased thiol levels, inhibited mitochondria complex I, and increased the mRNA expression of antioxidant marker proteins such as superoxide dismutase (SOD), catalase (CAT), and the keap1 gene product. Taken together, our findings indicate that the toxicity of rotenone is likely due to the direct inhibition of complex I activity, resulting in a high level of oxidative stress. Dietary supplementation with BISA affected the expression of SOD mRNA only at a concentration of 250 μmol/L, and did not affect any other parameter measured. Our results showed a protective effect of BISA on rotenone-induced mortality and locomotor deficits in Drosophila; this effect did not correlate with mitochondrial complex I activity, but may be related to the antioxidant protection afforded by eliminating superoxide generated as a result of rotenone-induced mitochondrial dysfunction.' publications.doi='10.1139/cjpp-2017-0207' publications.firstAuthor='Leite Gerlânia de Oliveira' publications.id=1449783 publications.issue='4' publications.journal='Can. J. Physiol. Pharmacol.' publications.month='Apr' publications.pages='359-365' publications.pubMedId='28881148' publications.title='Protective effect of (-)-α-bisabolol on rotenone-induced toxicity in Drosophila melanogaster.' publications.volume='96' publications.year=2018\nGene: publications.abstractText='(Macro)autophagy is a membrane-trafficking process that serves to sequester cellular constituents in organelles termed autophagosomes, which target their degradation in the lysosome. Autophagy operates at basal levels in all cells where it serves as a homeostatic mechanism to maintain cellular integrity. The levels and cargoes of autophagy can, however, change in response to a variety of stimuli, and perturbations in autophagy are known to be involved in the aetiology of various human diseases. Autophagy must therefore be tightly controlled. We report here that the Drosophila cyclin-dependent kinase PITSLRE is a modulator of autophagy. Loss of the human PITSLRE orthologue, CDK11, initially appears to induce autophagy, but at later time points CDK11 is critically required for autophagic flux and cargo digestion. Since PITSLRE/CDK11 regulates autophagy in both Drosophila and human cells, this kinase represents a novel phylogenetically conserved component of the autophagy machinery.' publications.doi='10.4161/auto.7.11.16646' publications.firstAuthor='Wilkinson Simon' publications.id=4716795 publications.issue='11' publications.journal='Autophagy' publications.month='Nov' publications.pages='1295-301' publications.pubMedId='21808150' publications.title='The cyclin-dependent kinase PITSLRE/CDK11 is required for successful autophagy.' publications.volume='7' publications.year=2011\nGene: publications.abstractText='(dpp), a low-threshold target of the pathway while the high-threshold targets remained unaffected. This is the first report that identifies Synj as a negative regulator of Hh signalling, implying its importance and an additional regulatory step in Hh signal transduction.' publications.doi=None publications.firstAuthor='Ahaley Shital Sarah' publications.id=2912067 publications.issue='5' publications.journal='J. Biosci.' publications.month='Dec' publications.pages='867-876' publications.pubMedId='30541947' publications.title='Synaptojanin regulates Hedgehog signalling by modulating phosphatidylinositol 4-phosphate levels.' publications.volume='43' publications.year=2018\nGene: publications.abstractText='+(and hence the record of sleep debt or waking time) represent prototypes of potential sleep-regulatory drugs.' publications.doi='10.1038/s41586-019-1034-5' publications.firstAuthor='Kempf Anissa' publications.id=1075875 publications.issue='7751' publications.journal='Nature' publications.month='04' publications.pages='230-234' publications.pubMedId='30894743' publications.title='A potassium channel β-subunit couples mitochondrial electron transport to sleep.' publications.volume='568' publications.year=2019\nGene: publications.abstractText='+, is a viable approach to preventing neurotoxicity associated with mitochondrial defects.' publications.doi='10.1242/bio.022186' publications.firstAuthor='Lehmann Susann' publications.id=1196835 publications.issue='2' publications.journal='Biol Open' publications.month='Feb' publications.pages='141-147' publications.pubMedId='28011627' publications.title=\"+salvage metabolism is neuroprotective in a PINK1 model of Parkinson's disease.\" publications.volume='6' publications.year=2017\nGene: publications.abstractText='+- and dopamine-induced changes in specific regions of the transporter, suggesting their involvement in protein conformational transitions. Furthermore, we detect ligand-dependent slow cooperative fluctuations of helical stretches in several domains of the transporter, which could be a molecular mechanism that assists in the transporter function. Our results provide a framework for understanding the molecular mechanism underlying the function of NSSs by revealing detailed insight into the state-dependent conformational changes associated with the alternating access model of the dopamine transporter.' publications.doi='10.1038/s41467-019-10449-w' publications.firstAuthor='Nielsen Anne Kathrine' publications.id=2856270 publications.issue='1' publications.journal='Nat Commun' publications.month='06' publications.pages='2714' publications.pubMedId='31221956' publications.title='Substrate-induced conformational dynamics of the dopamine transporter.' publications.volume='10' publications.year=2019\nGene: publications.abstractText='+-ATPase (V-ATPase) has been implicated in the regeneration of vertebrate structures, but the underlying cellular mechanisms remain unclear. Here, we use wounding assays on the epidermis of Drosophila embryos to assess the role of the V-ATPase in the healing response. We show that a deficient V-ATPase induces a defective wound healing response by delaying re-epithelialization and preventing the ERK-dependent transcriptional activation of repair around the wound site. Our data suggests that the V-ATPase plays an evolutionary conserved role in the activation of genes necessary for the wound healing response.' publications.doi='10.1111/wrr.12617' publications.firstAuthor='Fraire-Zamora Juan J' publications.id=1129071 publications.issue='1' publications.journal='Wound Repair Regen' publications.month='01' publications.pages='102-107' publications.pubMedId='29418044' publications.title='Vacuolar ATPase is required for ERK-dependent wound healing in the Drosophila embryo.' publications.volume='26' publications.year=2018\nGene: publications.abstractText='+-ATPase (v-ATPase) among the first and most significantly down-regulated complexes in differentiating daughter cells. We show that v-ATPase is essential for NB growth and persistent activity of the Notch signaling pathway. Our data suggest that v-ATPase and Notch form a regulatory loop that acts in multiple stem cell lineages both during nervous system development and in the adult gut. We provide a unique resource for investigating neural stem cell biology and demonstrate that cell fate changes can be induced by transcriptional regulation of basic, cell-essential pathways.' publications.doi='10.1083/jcb.201711167' publications.firstAuthor='Wissel Sebastian' publications.id=1025378 publications.issue='9' publications.journal='J. Cell Biol.' publications.month='09' publications.pages='3285-3300' publications.pubMedId='29959232' publications.title='Time-resolved transcriptomics in neural stem cells identifies a v-ATPase/Notch regulatory loop.' publications.volume='217' publications.year=2018\n"
    }
   ],
   "source": [
    "for row in query2.rows(size=10):\n",
    "    print(row)"
   ]
  },
  {
   "cell_type": "markdown",
   "metadata": {},
   "source": [
    "*The following is a gene's information. Total output should be 10 genes' information.*<br/>\n",
    "\n",
    "Gene: publications.abstractText='\"Bang-sensitive\"mutants of Drosophila display characteristic repertoires of distinct seizure-and-paralysis behaviors upon mechanical shock (Ganetzky &Wu, 1982, Genetics, 100, 597-614). The authors found that each of the bang-sensitive mutants described in this paper (bas, bss, eas, and tko) also displayed similar behavioral repertoires upon exposure to either high or low temperature. These repertoires are composed of interspersed periods of seizure and paralysis, and appear to have interesting parallels with vertebrate epileptiform behavior. Analysis of gynandromorph mosaics of these bang-sensitive mutant flies indicated that anatomical foci required for these two types of behaviors do not totally overlap, as they were separable among mosaic flies. Observations on mosaic and decapitated flies demonstrated an all-or-none expression of the seizure-and-paralysis behaviors, indicating global activity and long-range interactions in the nervous system. Therefore, the diverse collection of currently available Drosophila bang-sensitive mutants may serve as a rich source for mutational and cellular analysis to identify interacting molecular networks that are responsible for seizure phenotypes.' <br/>\n",
    "publications.doi='10.3109/01677063.2012.690011'<br/>\n",
    "publications.firstAuthor='Burg Martin G'<br/>\n",
    "publications.id=3041614<br/> \n",
    "publications.issue='2'<br/> \n",
    "publications.journal='J. Neurogenet.'<br/> \n",
    "publications.month='Jun'<br/> \n",
    "publications.pages='189-97'<br/>\n",
    "publications.pubMedId='22716921'<br/> \n",
    "publications.title='Mechanical and temperature stressor-induced seizure-and-paralysis behaviors in Drosophila bang-sensitive mutants.'<br/> \n",
    "publications.volume='26'<br/> \n",
    "publications.year=2012"
   ]
  },
  {
   "cell_type": "code",
   "execution_count": 18,
   "metadata": {},
   "outputs": [
    {
     "output_type": "error",
     "ename": "SyntaxError",
     "evalue": "invalid syntax (<ipython-input-18-ee3ec20b75ad>, line 1)",
     "traceback": [
      "\u001b[0;36m  File \u001b[0;32m\"<ipython-input-18-ee3ec20b75ad>\"\u001b[0;36m, line \u001b[0;32m1\u001b[0m\n\u001b[0;31m    Gene: publications.abstractText='\"Bang-sensitive\"mutants of Drosophila display characteristic repertoires of distinct seizure-and-paralysis behaviors upon mechanical shock (Ganetzky &Wu, 1982, Genetics, 100, 597-614). The authors found that each of the bang-sensitive mutants described in this paper (bas, bss, eas, and tko) also displayed similar behavioral repertoires upon exposure to either high or low temperature. These repertoires are composed of interspersed periods of seizure and paralysis, and appear to have interesting parallels with vertebrate epileptiform behavior. Analysis of gynandromorph mosaics of these bang-sensitive mutant flies indicated that anatomical foci required for these two types of behaviors do not totally overlap, as they were separable among mosaic flies. Observations on mosaic and decapitated flies demonstrated an all-or-none expression of the seizure-and-paralysis behaviors, indicating global activity and long-range interactions in the nervous system. Therefore, the diverse collection of currently available Drosophila bang-sensitive mutants may serve as a rich source for mutational and cellular analysis to identify interacting molecular networks that are responsible for seizure phenotypes.'<br/>\u001b[0m\n\u001b[0m                                                                                                                                                                                                                                                                                                                                                                                                                                                                                                                                                                                                                                                                                                                                                                                                                                                                                                                                                                                                                                                                                                                                                                                                                                                                                             ^\u001b[0m\n\u001b[0;31mSyntaxError\u001b[0m\u001b[0;31m:\u001b[0m invalid syntax\n"
     ]
    }
   ],
   "source": [
    "Gene: publications.abstractText='\"Bang-sensitive\"mutants of Drosophila display characteristic repertoires of distinct seizure-and-paralysis behaviors upon mechanical shock (Ganetzky &Wu, 1982, Genetics, 100, 597-614). The authors found that each of the bang-sensitive mutants described in this paper (bas, bss, eas, and tko) also displayed similar behavioral repertoires upon exposure to either high or low temperature. These repertoires are composed of interspersed periods of seizure and paralysis, and appear to have interesting parallels with vertebrate epileptiform behavior. Analysis of gynandromorph mosaics of these bang-sensitive mutant flies indicated that anatomical foci required for these two types of behaviors do not totally overlap, as they were separable among mosaic flies. Observations on mosaic and decapitated flies demonstrated an all-or-none expression of the seizure-and-paralysis behaviors, indicating global activity and long-range interactions in the nervous system. Therefore, the diverse collection of currently available Drosophila bang-sensitive mutants may serve as a rich source for mutational and cellular analysis to identify interacting molecular networks that are responsible for seizure phenotypes.'<br/>\n",
    "\n",
    "publications.doi='10.3109/01677063.2012.690011'<br/> \n",
    "publications.firstAuthor='Burg Martin G'<br/>\n",
    "publications.id=3041614<br/>\n",
    "publications.issue='2' <br/>\n",
    "publications.journal='J. Neurogenet.'<br/> \n",
    "publications.month='Jun' <br/>\n",
    "publications.pages='189-97'<br/>\n",
    "publications.pubMedId='22716921' <br/>\n",
    "publications.title='Mechanical and temperature stressor-induced seizure-and-paralysis behaviors in Drosophila bang-sensitive mutants.'<br/> \n",
    "publications.volume='26'<br/>\n",
    "publications.year=2012\n"
   ]
  },
  {
   "cell_type": "markdown",
   "metadata": {},
   "source": [
    "The add_constraint method is an Intermine-y way of querying the database. The add_constraint method comprises of three parts: \n",
    "<br/>\n",
    "path: The path refers to to the attribute that we want to constrain\n",
    "<br/>\n",
    "op or operator: Defines how to constrain the path\n",
    "<br/>\n",
    "value: The value to be applied on the operator\n",
    "<br/>\n",
    "<br/>\n",
    "Some common operators are =, >, <, ONE OF, NONE OF, CONTAINS etc."
   ]
  },
  {
   "cell_type": "markdown",
   "metadata": {
    "collapsed": true
   },
   "source": [
    "Now, we will take a look at another query. "
   ]
  },
  {
   "cell_type": "code",
   "execution_count": 10,
   "metadata": {},
   "outputs": [],
   "source": [
    "query3=service.new_query(\"Gene\")"
   ]
  },
  {
   "cell_type": "code",
   "execution_count": 11,
   "metadata": {},
   "outputs": [
    {
     "output_type": "execute_result",
     "data": {
      "text/plain": "<MultiConstraint: Gene.organism.species ONE OF ['melanogaster', 'mojavensis']>"
     },
     "metadata": {},
     "execution_count": 11
    }
   ],
   "source": [
    "query3.add_constraint(\"organism.genus\",\"=\",\"Drosophila\")\n",
    "query3.add_constraint(\"organism.species\",\"ONE OF\",['melanogaster', 'mojavensis'])"
   ]
  },
  {
   "cell_type": "code",
   "execution_count": 12,
   "metadata": {
    "scrolled": true
   },
   "outputs": [
    {
     "output_type": "stream",
     "name": "stdout",
     "text": "Gene: briefDescription=None cytoLocation='-' description=None id=1000219 length=12653 name='zydeco' primaryIdentifier='FBgn0265767' score=None scoreType=None secondaryIdentifier='CG2893' symbol='zyd'\nGene: briefDescription=None cytoLocation='-' description=None id=1006102 length=12892 name='Rho GTPase activating protein at 1A' primaryIdentifier='FBgn0025836' score=None scoreType=None secondaryIdentifier='CG40494' symbol='RhoGAP1A'\nGene: briefDescription=None cytoLocation='-' description=None id=1010363 length=21475 name='verthandi' primaryIdentifier='FBgn0260987' score=None scoreType=None secondaryIdentifier='CG17436' symbol='vtd'\nGene: briefDescription=None cytoLocation='-' description=None id=1015832 length=14286 name='Maf1' primaryIdentifier='FBgn0267861' score=None scoreType=None secondaryIdentifier='CG40196' symbol='Maf1'\nGene: briefDescription=None cytoLocation='-' description=None id=1019267 length=12844 name=None primaryIdentifier='FBgn0039941' score=None scoreType=None secondaryIdentifier='CG17167' symbol='CG17167'\nGene: briefDescription=None cytoLocation='-' description=None id=1019385 length=11613 name=None primaryIdentifier='FBgn0040031' score=None scoreType=None secondaryIdentifier='CG12061' symbol='CG12061'\nGene: briefDescription=None cytoLocation='-' description=None id=1019845 length=21673 name=None primaryIdentifier='FBgn0039955' score=None scoreType=None secondaryIdentifier='CG41099' symbol='CG41099'\nGene: briefDescription=None cytoLocation='-' description=None id=1020575 length=11099 name=None primaryIdentifier='FBgn0040056' score=None scoreType=None secondaryIdentifier='CG17698' symbol='CG17698'\nGene: briefDescription=None cytoLocation='-' description=None id=1020775 length=32088 name='kelch like family member 10' primaryIdentifier='FBgn0040038' score=None scoreType=None secondaryIdentifier='CG12423' symbol='klhl10'\nGene: briefDescription=None cytoLocation='-' description=None id=1021531 length=5696 name=None primaryIdentifier='FBgn0025835' score=None scoreType=None secondaryIdentifier='CG17707' symbol='CG17707'\n"
    }
   ],
   "source": [
    "for row in query3.rows(size=10):\n",
    "    print(row)"
   ]
  },
  {
   "cell_type": "markdown",
   "metadata": {},
   "source": [
    "When querying the database using consecutive add_constraint methods, by default the constraints are \"and\"ed together, i.e. a particular instance will be part of the final result only if it satisfies *all* the constraints. However, we have the option to \"or\" the constraints as well. We can use the set_logic method to do the same. "
   ]
  },
  {
   "cell_type": "markdown",
   "metadata": {},
   "source": [
    "We will now look at an example for the same. "
   ]
  },
  {
   "cell_type": "code",
   "execution_count": 13,
   "metadata": {},
   "outputs": [],
   "source": [
    "query4=service.new_query(\"Gene\")"
   ]
  },
  {
   "cell_type": "code",
   "execution_count": 14,
   "metadata": {},
   "outputs": [
    {
     "output_type": "execute_result",
     "data": {
      "text/plain": "<intermine.query.Query at 0x109f57850>"
     },
     "metadata": {},
     "execution_count": 14
    }
   ],
   "source": [
    "query4.select(\"publications.*\")"
   ]
  },
  {
   "cell_type": "code",
   "execution_count": 15,
   "metadata": {},
   "outputs": [
    {
     "output_type": "execute_result",
     "data": {
      "text/plain": "<BinaryConstraint: Gene.publications.year >= 2010>"
     },
     "metadata": {},
     "execution_count": 15
    }
   ],
   "source": [
    "query4.add_constraint(\"organism.genus\",\"=\",\"Drosophila\") #A\n",
    "query4.add_constraint(\"organism.species\",\"=\",\"yakuba\") #B\n",
    "query4.add_constraint(\"organism.species\",\"=\",\"melanogaster\") #C\n",
    "query4.add_constraint(\"publications.year\",\">=\",\"2010\") #D"
   ]
  },
  {
   "cell_type": "code",
   "execution_count": 16,
   "metadata": {},
   "outputs": [
    {
     "output_type": "execute_result",
     "data": {
      "text/plain": "<intermine.query.Query at 0x109f57850>"
     },
     "metadata": {},
     "execution_count": 16
    }
   ],
   "source": [
    "query4.set_logic(\"A & (B | C) & D\") #you can also use (\"A and (B or C) and D)"
   ]
  },
  {
   "cell_type": "code",
   "execution_count": 17,
   "metadata": {},
   "outputs": [
    {
     "output_type": "stream",
     "name": "stdout",
     "text": "Gene: publications.abstractText='\"Bang-sensitive\"mutants of Drosophila display characteristic repertoires of distinct seizure-and-paralysis behaviors upon mechanical shock (Ganetzky &Wu, 1982, Genetics, 100, 597-614). The authors found that each of the bang-sensitive mutants described in this paper (bas, bss, eas, and tko) also displayed similar behavioral repertoires upon exposure to either high or low temperature. These repertoires are composed of interspersed periods of seizure and paralysis, and appear to have interesting parallels with vertebrate epileptiform behavior. Analysis of gynandromorph mosaics of these bang-sensitive mutant flies indicated that anatomical foci required for these two types of behaviors do not totally overlap, as they were separable among mosaic flies. Observations on mosaic and decapitated flies demonstrated an all-or-none expression of the seizure-and-paralysis behaviors, indicating global activity and long-range interactions in the nervous system. Therefore, the diverse collection of currently available Drosophila bang-sensitive mutants may serve as a rich source for mutational and cellular analysis to identify interacting molecular networks that are responsible for seizure phenotypes.' publications.doi='10.3109/01677063.2012.690011' publications.firstAuthor='Burg Martin G' publications.id=3041614 publications.issue='2' publications.journal='J. Neurogenet.' publications.month='Jun' publications.pages='189-97' publications.pubMedId='22716921' publications.title='Mechanical and temperature stressor-induced seizure-and-paralysis behaviors in Drosophila bang-sensitive mutants.' publications.volume='26' publications.year=2012\nGene: publications.abstractText='\"Regulatory evolution,\"that is, changes in a gene\\'s expression pattern through changes at its regulatory sequence, rather than changes at the coding sequence of the gene or changes of the upstream transcription factors, has been increasingly recognized as a pervasive evolution mechanism. Many somatic sexually dimorphic features of Drosophila melanogaster are the results of gene expression regulated by the doublesex (dsx) gene, which encodes sex-specific transcription factors (DSX(F) in females and DSX(M) in males). Rapid changes in such sexually dimorphic features are likely a result of changes at the regulatory sequence of the target genes. We focused on the Flavin-containing monooxygenase-2 (Fmo-2) gene, a likely direct dsx target, to elucidate how sexually dimorphic expression and its evolution are brought about. We found that dsx is deployed to regulate the Fmo-2 transcription both in the midgut and in fat body cells of the spermatheca (a female-specific tissue), through a canonical DSX-binding site in the Fmo-2 regulatory sequence. In the melanogaster group, Fmo-2 transcription in the midgut has evolved rapidly, in contrast to the conserved spermathecal transcription. We identified two cis-regulatory modules (CRM-p and CRM-d) that direct sexually monomorphic or dimorphic Fmo-2 transcription, respectively, in the midguts of these species. Changes of Fmo-2 transcription in the midgut from sexually dimorphic to sexually monomorphic in some species are caused by the loss of CRM-d function, but not the loss of the canonical DSX-binding site. Thus, conferring transcriptional regulation on a CRM level allows the regulation to evolve rapidly in one tissue while evading evolutionary constraints posed by other tissues. ' publications.doi='10.1073/pnas.1501192112' publications.firstAuthor='Luo Shengzhan D' publications.id=1026718 publications.issue='8' publications.journal='Proc. Natl. Acad. Sci. U.S.A.' publications.month='Feb' publications.pages='E852-61' publications.pubMedId='25675536' publications.title=\"Constraints on the evolution of a doublesex target gene arising from doublesex's pleiotropic deployment.\" publications.volume='112' publications.year=2015\nGene: publications.abstractText='(-)-α-Bisabolol (BISA) is a sesquiterpene alcohol, which has several recognized biological activities, including anti-inflammatory, anti-irritant, and antibacterial properties. In the present study, we investigated the influence of BISA (5, 25, and 250 μmol/L) on rotenone (500 μmol/L)-induced toxicity in Drosophila melanogaster for 7 days. BISA supplementation significantly decreased rotenone-induced mortality and locomotor deficits. The loss of motor function induced by rotenone correlated with a significant change in stress response factors; it decreased thiol levels, inhibited mitochondria complex I, and increased the mRNA expression of antioxidant marker proteins such as superoxide dismutase (SOD), catalase (CAT), and the keap1 gene product. Taken together, our findings indicate that the toxicity of rotenone is likely due to the direct inhibition of complex I activity, resulting in a high level of oxidative stress. Dietary supplementation with BISA affected the expression of SOD mRNA only at a concentration of 250 μmol/L, and did not affect any other parameter measured. Our results showed a protective effect of BISA on rotenone-induced mortality and locomotor deficits in Drosophila; this effect did not correlate with mitochondrial complex I activity, but may be related to the antioxidant protection afforded by eliminating superoxide generated as a result of rotenone-induced mitochondrial dysfunction.' publications.doi='10.1139/cjpp-2017-0207' publications.firstAuthor='Leite Gerlânia de Oliveira' publications.id=1449783 publications.issue='4' publications.journal='Can. J. Physiol. Pharmacol.' publications.month='Apr' publications.pages='359-365' publications.pubMedId='28881148' publications.title='Protective effect of (-)-α-bisabolol on rotenone-induced toxicity in Drosophila melanogaster.' publications.volume='96' publications.year=2018\nGene: publications.abstractText='(Macro)autophagy is a membrane-trafficking process that serves to sequester cellular constituents in organelles termed autophagosomes, which target their degradation in the lysosome. Autophagy operates at basal levels in all cells where it serves as a homeostatic mechanism to maintain cellular integrity. The levels and cargoes of autophagy can, however, change in response to a variety of stimuli, and perturbations in autophagy are known to be involved in the aetiology of various human diseases. Autophagy must therefore be tightly controlled. We report here that the Drosophila cyclin-dependent kinase PITSLRE is a modulator of autophagy. Loss of the human PITSLRE orthologue, CDK11, initially appears to induce autophagy, but at later time points CDK11 is critically required for autophagic flux and cargo digestion. Since PITSLRE/CDK11 regulates autophagy in both Drosophila and human cells, this kinase represents a novel phylogenetically conserved component of the autophagy machinery.' publications.doi='10.4161/auto.7.11.16646' publications.firstAuthor='Wilkinson Simon' publications.id=4716795 publications.issue='11' publications.journal='Autophagy' publications.month='Nov' publications.pages='1295-301' publications.pubMedId='21808150' publications.title='The cyclin-dependent kinase PITSLRE/CDK11 is required for successful autophagy.' publications.volume='7' publications.year=2011\nGene: publications.abstractText='(dpp), a low-threshold target of the pathway while the high-threshold targets remained unaffected. This is the first report that identifies Synj as a negative regulator of Hh signalling, implying its importance and an additional regulatory step in Hh signal transduction.' publications.doi=None publications.firstAuthor='Ahaley Shital Sarah' publications.id=2912067 publications.issue='5' publications.journal='J. Biosci.' publications.month='Dec' publications.pages='867-876' publications.pubMedId='30541947' publications.title='Synaptojanin regulates Hedgehog signalling by modulating phosphatidylinositol 4-phosphate levels.' publications.volume='43' publications.year=2018\nGene: publications.abstractText='+(and hence the record of sleep debt or waking time) represent prototypes of potential sleep-regulatory drugs.' publications.doi='10.1038/s41586-019-1034-5' publications.firstAuthor='Kempf Anissa' publications.id=1075875 publications.issue='7751' publications.journal='Nature' publications.month='04' publications.pages='230-234' publications.pubMedId='30894743' publications.title='A potassium channel β-subunit couples mitochondrial electron transport to sleep.' publications.volume='568' publications.year=2019\nGene: publications.abstractText='+, is a viable approach to preventing neurotoxicity associated with mitochondrial defects.' publications.doi='10.1242/bio.022186' publications.firstAuthor='Lehmann Susann' publications.id=1196835 publications.issue='2' publications.journal='Biol Open' publications.month='Feb' publications.pages='141-147' publications.pubMedId='28011627' publications.title=\"+salvage metabolism is neuroprotective in a PINK1 model of Parkinson's disease.\" publications.volume='6' publications.year=2017\nGene: publications.abstractText='+- and dopamine-induced changes in specific regions of the transporter, suggesting their involvement in protein conformational transitions. Furthermore, we detect ligand-dependent slow cooperative fluctuations of helical stretches in several domains of the transporter, which could be a molecular mechanism that assists in the transporter function. Our results provide a framework for understanding the molecular mechanism underlying the function of NSSs by revealing detailed insight into the state-dependent conformational changes associated with the alternating access model of the dopamine transporter.' publications.doi='10.1038/s41467-019-10449-w' publications.firstAuthor='Nielsen Anne Kathrine' publications.id=2856270 publications.issue='1' publications.journal='Nat Commun' publications.month='06' publications.pages='2714' publications.pubMedId='31221956' publications.title='Substrate-induced conformational dynamics of the dopamine transporter.' publications.volume='10' publications.year=2019\nGene: publications.abstractText='+-ATPase (V-ATPase) has been implicated in the regeneration of vertebrate structures, but the underlying cellular mechanisms remain unclear. Here, we use wounding assays on the epidermis of Drosophila embryos to assess the role of the V-ATPase in the healing response. We show that a deficient V-ATPase induces a defective wound healing response by delaying re-epithelialization and preventing the ERK-dependent transcriptional activation of repair around the wound site. Our data suggests that the V-ATPase plays an evolutionary conserved role in the activation of genes necessary for the wound healing response.' publications.doi='10.1111/wrr.12617' publications.firstAuthor='Fraire-Zamora Juan J' publications.id=1129071 publications.issue='1' publications.journal='Wound Repair Regen' publications.month='01' publications.pages='102-107' publications.pubMedId='29418044' publications.title='Vacuolar ATPase is required for ERK-dependent wound healing in the Drosophila embryo.' publications.volume='26' publications.year=2018\nGene: publications.abstractText='+-ATPase (v-ATPase) among the first and most significantly down-regulated complexes in differentiating daughter cells. We show that v-ATPase is essential for NB growth and persistent activity of the Notch signaling pathway. Our data suggest that v-ATPase and Notch form a regulatory loop that acts in multiple stem cell lineages both during nervous system development and in the adult gut. We provide a unique resource for investigating neural stem cell biology and demonstrate that cell fate changes can be induced by transcriptional regulation of basic, cell-essential pathways.' publications.doi='10.1083/jcb.201711167' publications.firstAuthor='Wissel Sebastian' publications.id=1025378 publications.issue='9' publications.journal='J. Cell Biol.' publications.month='09' publications.pages='3285-3300' publications.pubMedId='29959232' publications.title='Time-resolved transcriptomics in neural stem cells identifies a v-ATPase/Notch regulatory loop.' publications.volume='217' publications.year=2018\n"
    }
   ],
   "source": [
    "for row in query4.rows(size=10):\n",
    "    print(row)"
   ]
  }
 ],
 "metadata": {
  "anaconda-cloud": {},
  "kernelspec": {
   "display_name": "Python 3.8.1 64-bit",
   "language": "python",
   "name": "python38164bit64f092a14f47420fadd99522ecd01b91"
  },
  "language_info": {
   "codemirror_mode": {
    "name": "ipython",
    "version": 3
   },
   "file_extension": ".py",
   "mimetype": "text/x-python",
   "name": "python",
   "nbconvert_exporter": "python",
   "pygments_lexer": "ipython3",
   "version": "3.8.1-final"
  }
 },
 "nbformat": 4,
 "nbformat_minor": 1
}