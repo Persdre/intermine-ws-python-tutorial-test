{
 "cells": [
  {
   "cell_type": "markdown",
   "metadata": {},
   "source": [
    "# Intermine-Python: Tutorial 2: Adding Constraints to a Query"
   ]
  },
  {
   "cell_type": "markdown",
   "metadata": {},
   "source": [
    "This is the second tutorial in the Intermine-Python tutorial series. In the previous tutorial we learnt how to select the output columns as per our choice. Now, we will look at adding constraints to our queries to filter the results."
   ]
  },
  {
   "cell_type": "markdown",
   "metadata": {},
   "source": [
    "The first query that we will be looking at is to extract a list of all the Drosophilids in the database. We start with creating a service and query object as we had seen earlier. If we want to view all the possible output columns at once we can pass \"\\*\" as a parameter to the select function. This is Intermine's equivalent of SQL's SELECT *."
   ]
  },
  {
   "cell_type": "code",
   "execution_count": null,
   "metadata": {},
   "outputs": [],
   "source": [
    "from intermine.webservice import Service"
   ]
  },
  {
   "cell_type": "code",
   "execution_count": null,
   "metadata": {},
   "outputs": [],
   "source": [
    "service = Service(\"www.flymine.org/flymine/service\")\n",
    "query=service.new_query(\"Organism\") "
   ]
  },
  {
   "cell_type": "code",
   "execution_count": null,
   "metadata": {},
   "outputs": [],
   "source": [
    "query.select('*')"
   ]
  },
  {
   "cell_type": "markdown",
   "metadata": {},
   "source": [
    "To add a constraint to our query, we can use the add_constraint method available in the Query class. "
   ]
  },
  {
   "cell_type": "code",
   "execution_count": null,
   "metadata": {},
   "outputs": [],
   "source": [
    "query.add_constraint(\"genus\",\"=\",\"Drosophila\")"
   ]
  },
  {
   "cell_type": "markdown",
   "metadata": {},
   "source": [
    "Now, we will print the results of our query. We will use the technique that we learnt in the first tutorial. You can also reduce the number of output columns by selecting only certain columns as we had seen in the first tutorial."
   ]
  },
  {
   "cell_type": "code",
   "execution_count": null,
   "metadata": {},
   "outputs": [],
   "source": [
    "for row in query.rows():\n",
    "    print(row)"
   ]
  },
  {
   "cell_type": "markdown",
   "metadata": {},
   "source": [
    "We are now going to change the query a little bit. Let's say that we want to extract all the publication information about Droshophilids that have been published since 2010."
   ]
  },
  {
   "cell_type": "code",
   "execution_count": null,
   "metadata": {},
   "outputs": [],
   "source": [
    "query2=service.new_query(\"Gene\")"
   ]
  },
  {
   "cell_type": "markdown",
   "metadata": {},
   "source": [
    "Since we want to extract all the information related to each publication pass \"publications.\\*\" as our parameter."
   ]
  },
  {
   "cell_type": "code",
   "execution_count": null,
   "metadata": {},
   "outputs": [],
   "source": [
    "query2.select(\"publications.*\")"
   ]
  },
  {
   "cell_type": "markdown",
   "metadata": {},
   "source": [
    "This is followed by adding the contraints. First we want to limit our search to only Drosophilds and secondly we want to extract only those publications that were published in or after the year 2010."
   ]
  },
  {
   "cell_type": "code",
   "execution_count": null,
   "metadata": {},
   "outputs": [],
   "source": [
    "query2.add_constraint(\"organism.genus\",\"=\",\"Drosophila\")\n",
    "query2.add_constraint(\"publications.year\",\">=\",\"2010\")"
   ]
  },
  {
   "cell_type": "code",
   "execution_count": null,
   "metadata": {},
   "outputs": [],
   "source": [
    "for row in query2.rows(size=10):\n",
    "    print(row)"
   ]
  },
  {
   "cell_type": "markdown",
   "metadata": {},
   "source": [
    "The add_constraint method is an Intermine-y way of querying the database. The add_constraint method comprises of three parts: \n",
    "<br/>\n",
    "path: The path refers to to the attribute that we want to constrain\n",
    "<br/>\n",
    "op or operator: Defines how to constrain the path\n",
    "<br/>\n",
    "value: The value to be applied on the operator\n",
    "<br/>\n",
    "<br/>\n",
    "Some common operators are =, >, <, ONE OF, NONE OF, CONTAINS etc."
   ]
  },
  {
   "cell_type": "markdown",
   "metadata": {
    "collapsed": true
   },
   "source": [
    "Now, we will take a look at another query. "
   ]
  },
  {
   "cell_type": "code",
   "execution_count": null,
   "metadata": {},
   "outputs": [],
   "source": [
    "query3=service.new_query(\"Gene\")"
   ]
  },
  {
   "cell_type": "code",
   "execution_count": null,
   "metadata": {},
   "outputs": [],
   "source": [
    "query3.add_constraint(\"organism.genus\",\"=\",\"Drosophila\")\n",
    "query3.add_constraint(\"organism.species\",\"ONE OF\",['melanogaster', 'mojavensis'])"
   ]
  },
  {
   "cell_type": "code",
   "execution_count": null,
   "metadata": {
    "scrolled": true
   },
   "outputs": [],
   "source": [
    "for row in query3.rows(size=10):\n",
    "    print(row)"
   ]
  },
  {
   "cell_type": "markdown",
   "metadata": {},
   "source": [
    "When querying the database using consecutive add_constraint methods, by default the constraints are \"and\"ed together, i.e. a particular instance will be part of the final result only if it satisfies *all* the constraints. However, we have the option to \"or\" the constraints as well. We can use the set_logic method to do the same. "
   ]
  },
  {
   "cell_type": "markdown",
   "metadata": {},
   "source": [
    "We will now look at an example for the same. "
   ]
  },
  {
   "cell_type": "code",
   "execution_count": null,
   "metadata": {},
   "outputs": [],
   "source": [
    "query4=service.new_query(\"Gene\")"
   ]
  },
  {
   "cell_type": "code",
   "execution_count": null,
   "metadata": {},
   "outputs": [],
   "source": [
    "query4.select(\"publications.*\")"
   ]
  },
  {
   "cell_type": "code",
   "execution_count": null,
   "metadata": {},
   "outputs": [],
   "source": [
    "query4.add_constraint(\"organism.genus\",\"=\",\"Drosophila\") #A\n",
    "query4.add_constraint(\"organism.species\",\"=\",\"yakuba\") #B\n",
    "query4.add_constraint(\"organism.species\",\"=\",\"melanogaster\") #C\n",
    "query4.add_constraint(\"publications.year\",\">=\",\"2010\") #D"
   ]
  },
  {
   "cell_type": "code",
   "execution_count": null,
   "metadata": {},
   "outputs": [],
   "source": [
    "query4.set_logic(\"A & (B | C) & D\") #you can also use (\"A and (B or C) and D)"
   ]
  },
  {
   "cell_type": "code",
   "execution_count": null,
   "metadata": {},
   "outputs": [],
   "source": [
    "for row in query4.rows(size=10):\n",
    "    print(row)"
   ]
  }
 ],
 "metadata": {
  "anaconda-cloud": {},
  "kernelspec": {
   "display_name": "Python 3.8.1 64-bit",
   "language": "python",
   "name": "python38164bit64f092a14f47420fadd99522ecd01b91"
  },
  "language_info": {
   "codemirror_mode": {
    "name": "ipython",
    "version": 3
   },
   "file_extension": ".py",
   "mimetype": "text/x-python",
   "name": "python",
   "nbconvert_exporter": "python",
   "pygments_lexer": "ipython3",
   "version": "3.8.1"
  }
 },
 "nbformat": 4,
 "nbformat_minor": 1
}